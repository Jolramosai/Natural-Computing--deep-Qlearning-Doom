{
  "nbformat": 4,
  "nbformat_minor": 0,
  "metadata": {
    "colab": {
      "name": "deepQlearningDoom.ipynb",
      "provenance": [],
      "collapsed_sections": []
    },
    "kernelspec": {
      "name": "python3",
      "display_name": "Python 3"
    },
    "accelerator": "GPU"
  },
  "cells": [
    {
      "cell_type": "markdown",
      "metadata": {
        "id": "FsqQJN7hMbft",
        "colab_type": "text"
      },
      "source": [
        "## Install dependencies on google colaborate"
      ]
    },
    {
      "cell_type": "code",
      "metadata": {
        "id": "IrkeyWxFKEH_",
        "colab_type": "code",
        "colab": {}
      },
      "source": [
        "%%bash\n",
        "# Install deps from \n",
        "# https://github.com/mwydmuch/ViZDoom/blob/master/doc/Building.md#-linux\n",
        "\n",
        "apt-get update\n",
        "\n",
        "apt-get install build-essential zlib1g-dev libsdl2-dev libjpeg-dev \\\n",
        "nasm tar libbz2-dev libgtk2.0-dev cmake git libfluidsynth-dev libgme-dev \\\n",
        "libopenal-dev timidity libwildmidi-dev unzip\n",
        "\n",
        "# Boost libraries\n",
        "apt-get install libboost-all-dev\n",
        "\n",
        "# Lua binding dependencies\n",
        "apt-get install liblua5.1-dev"
      ],
      "execution_count": 0,
      "outputs": []
    },
    {
      "cell_type": "markdown",
      "metadata": {
        "id": "FB0a4iR6Mihd",
        "colab_type": "text"
      },
      "source": [
        "\n",
        "\n",
        "## Install necessary libraries\n",
        "\n",
        "\n"
      ]
    },
    {
      "cell_type": "code",
      "metadata": {
        "id": "Xw62lyAHKGP5",
        "colab_type": "code",
        "outputId": "ca02dfd0-deda-4be1-b9c1-77156871bb46",
        "colab": {
          "base_uri": "https://localhost:8080/",
          "height": 204
        }
      },
      "source": [
        "!pip install git+https://github.com/mwydmuch/ViZDoom"
      ],
      "execution_count": 0,
      "outputs": [
        {
          "output_type": "stream",
          "text": [
            "Collecting git+https://github.com/mwydmuch/ViZDoom\n",
            "  Cloning https://github.com/mwydmuch/ViZDoom to /tmp/pip-req-build-4sb_j3kk\n",
            "  Running command git clone -q https://github.com/mwydmuch/ViZDoom /tmp/pip-req-build-4sb_j3kk\n",
            "Requirement already satisfied: numpy in /usr/local/lib/python3.6/dist-packages (from vizdoom==1.1.8) (1.18.4)\n",
            "Building wheels for collected packages: vizdoom\n",
            "  Building wheel for vizdoom (setup.py) ... \u001b[?25l\u001b[?25hdone\n",
            "  Created wheel for vizdoom: filename=vizdoom-1.1.8-cp36-none-any.whl size=14461301 sha256=feeb79c6e7878df359cdcdb8d875a467aa2c33d56c31a40dab4551ff6e3be160\n",
            "  Stored in directory: /tmp/pip-ephem-wheel-cache-expkp0av/wheels/83/3f/ae/4b946ae45795f2064ff1270f67f8379e22485bd0bf80b37ab0\n",
            "Successfully built vizdoom\n",
            "Installing collected packages: vizdoom\n",
            "Successfully installed vizdoom-1.1.8\n"
          ],
          "name": "stdout"
        }
      ]
    },
    {
      "cell_type": "code",
      "metadata": {
        "id": "nJkiAenGKpTr",
        "colab_type": "code",
        "outputId": "82444893-7832-4bcf-e4d5-a8238f8dd33c",
        "colab": {
          "base_uri": "https://localhost:8080/",
          "height": 34
        }
      },
      "source": [
        "from keras.models  import Sequential\n",
        "from keras.layers  import Conv2D\n",
        "from keras.layers  import Activation   # Deep Learning library\n",
        "from keras.layers  import Dense\n",
        "from keras.layers  import Dropout\n",
        "from keras.layers  import Flatten\n",
        "from keras.constraints import maxnorm\n",
        "from keras.optimizers import Adam\n",
        "from keras.models import load_model\n",
        "import numpy as np           # Handle matrices\n",
        "import time                  # Handling time calculation\n",
        "from skimage import transform# Help us to preprocess the frames\n",
        "from collections import deque# Ordered collection with ends\n",
        "import matplotlib.pyplot as plt # Display graphs\n",
        "from __future__ import print_function\n",
        "import vizdoom as vzd\n",
        "import cv2\n",
        "from random import choice,uniform,randint,sample\n",
        "from time import sleep\n",
        "from sklearn.metrics import mean_squared_error as mse"
      ],
      "execution_count": 0,
      "outputs": [
        {
          "output_type": "stream",
          "text": [
            "Using TensorFlow backend.\n"
          ],
          "name": "stderr"
        }
      ]
    },
    {
      "cell_type": "code",
      "metadata": {
        "id": "5LnZWGhkC8hW",
        "colab_type": "code",
        "colab": {}
      },
      "source": [
        "def plot_rewards(rewards):\n",
        "    plt.plot(rewards)\n",
        "    plt.xlabel(\"score\")\n",
        "    plt.ylabel(\"episodes\")\n",
        "    plt.show()\n",
        "    plt.close()"
      ],
      "execution_count": 0,
      "outputs": []
    },
    {
      "cell_type": "code",
      "metadata": {
        "id": "usrSESj8DJQc",
        "colab_type": "code",
        "colab": {}
      },
      "source": [
        "def plot_mse(train,test):\n",
        "    plt.plot(train)\n",
        "    plt.plot(test)\n",
        "    plt.title('model mse')\n",
        "    plt.ylabel('mse')\n",
        "    plt.xlabel('batch')\n",
        "    plt.legend(['train', 'test'], loc='upper left')\n",
        "    plt.show()\n",
        "\n",
        "def plot_loss(loss):\n",
        "    plt.plot(loss)\n",
        "    plt.title('model loss')\n",
        "    plt.ylabel('loss')\n",
        "    plt.xlabel('batch')\n",
        "    plt.show()"
      ],
      "execution_count": 0,
      "outputs": []
    },
    {
      "cell_type": "code",
      "metadata": {
        "id": "K3p5KRrUM-yo",
        "colab_type": "code",
        "colab": {}
      },
      "source": [
        "def buildmodel_initial(shape):\n",
        "    print(\"Now we build the model\")\n",
        "    model = Sequential()\n",
        "    model.add(Conv2D(32, (3, 3), padding='same',input_shape=shape,activation='relu'))\n",
        "    model.add(Conv2D(64, (3, 3), padding='same',activation='relu'))\n",
        "    model.add(Conv2D(64, (3, 3) , padding='same',activation='relu'))\n",
        "    model.add(Flatten())\n",
        "    model.add(Dense(256, activation='relu',kernel_constraint=maxnorm(3)))\n",
        "    model.add(Activation('relu'))\n",
        "    model.add(Dense(3,activation='softmax'))\n",
        "   \n",
        "    adam = Adam(lr=1e-6)\n",
        "    model.compile(loss='mse',optimizer=adam)\n",
        "    print(\"We finish building the model\")\n",
        "    return model"
      ],
      "execution_count": 0,
      "outputs": []
    },
    {
      "cell_type": "code",
      "metadata": {
        "id": "GRDaI_xrAGo7",
        "colab_type": "code",
        "colab": {}
      },
      "source": [
        "def buildmodel_improved(shape):\n",
        "    print(\"Now we build the model\")\n",
        "    model = Sequential()\n",
        "    model.add(Conv2D(32, (3, 3), padding='same',input_shape=shape,activation='relu'))\n",
        "    model.add(Conv2D(64, (3, 3), padding='same',activation='relu'))\n",
        "    model.add(Conv2D(64, (3, 3) , padding='same',activation='relu'))\n",
        "    model.add(Flatten())\n",
        "    model.add(Dense(256, activation='relu',kernel_constraint=maxnorm(3)))\n",
        "    model.add(Activation('relu'))\n",
        "    model.add(Dense(3,activation='softmax'))\n",
        "   \n",
        "    adam = Adam(lr=1e-6)\n",
        "    model.compile(loss='mse',optimizer=adam)\n",
        "    print(\"We finish building the model\")\n",
        "    return model"
      ],
      "execution_count": 0,
      "outputs": []
    },
    {
      "cell_type": "code",
      "metadata": {
        "id": "cLA0bKCUXiyn",
        "colab_type": "code",
        "colab": {}
      },
      "source": [
        "def save_model(model,f):\n",
        "    model.save(f)"
      ],
      "execution_count": 0,
      "outputs": []
    },
    {
      "cell_type": "code",
      "metadata": {
        "id": "OzfLCJDhd53d",
        "colab_type": "code",
        "colab": {}
      },
      "source": [
        "def show_image(img,title):\n",
        "    f,ax = plt.subplots(1,1,figsize=(8,3))\n",
        "    ax.imshow(img)\n",
        "    f.suptitle(title)\n",
        "    plt.show()"
      ],
      "execution_count": 0,
      "outputs": []
    },
    {
      "cell_type": "code",
      "metadata": {
        "id": "NCM-nQ2ViWwN",
        "colab_type": "code",
        "colab": {}
      },
      "source": [
        "def preprocess_image(img,shape):\n",
        "    im = cv2.resize(img,(shape[0],shape[1]))\n",
        "    im = cv2.cvtColor(im, cv2.COLOR_BGR2GRAY)\n",
        "    return im"
      ],
      "execution_count": 0,
      "outputs": []
    },
    {
      "cell_type": "code",
      "metadata": {
        "id": "91il9yUviN9r",
        "colab_type": "code",
        "colab": {}
      },
      "source": [
        "def create_doom_instance():\n",
        "    game = vzd.DoomGame()\n",
        "\n",
        "    # Now it's time for configuration!\n",
        "    # load_config could be used to load configuration instead of doing it here with code.\n",
        "    # If load_config is used in-code configuration will also work - most recent changes will add to previous ones.\n",
        "    # game.load_config(\"usr/local/lib/python3.7/dist-packages/vizdoom/scenarios/basic.cfg\")\n",
        "\n",
        "    # Sets path to additional resources wad file which is basically your scenario wad.\n",
        "    # If not specified default maps will be used and it's pretty much useless... unless you want to play good old Doom.\n",
        "    game.set_doom_scenario_path(\"/usr/local/lib/python3.6/dist-packages/vizdoom/scenarios/basic.wad\")\n",
        "\n",
        "    # Sets map to start (scenario .wad files can contain many maps).\n",
        "    game.set_doom_map(\"map01\")\n",
        "\n",
        "    # Sets resolution. Default is 320X240\n",
        "    game.set_screen_resolution(vzd.ScreenResolution.RES_640X480)\n",
        "\n",
        "    # Sets the screen buffer format. Not used here but now you can change it. Default is CRCGCB.\n",
        "    game.set_screen_format(vzd.ScreenFormat.RGB24)\n",
        "\n",
        "    # Enables depth buffer.\n",
        "    game.set_depth_buffer_enabled(True)\n",
        "\n",
        "    # Enables labeling of in game objects labeling.\n",
        "    game.set_labels_buffer_enabled(True)\n",
        "\n",
        "    # Enables buffer with top down map of the current episode/level.\n",
        "    game.set_automap_buffer_enabled(True)\n",
        "\n",
        "    # Enables information about all objects present in the current episode/level.\n",
        "    game.set_objects_info_enabled(True)\n",
        "\n",
        "    # Enables information about all sectors (map layout).\n",
        "    game.set_sectors_info_enabled(True)\n",
        "\n",
        "    # Sets other rendering options (all of these options except crosshair are enabled (set to True) by default)\n",
        "    game.set_render_hud(False)\n",
        "    game.set_render_minimal_hud(False)  # If hud is enabled\n",
        "    game.set_render_crosshair(True)\n",
        "    game.set_render_weapon(True)\n",
        "    game.set_render_decals(False)  # Bullet holes and blood on the walls\n",
        "    game.set_render_particles(False)\n",
        "    game.set_render_effects_sprites(True)  # Smoke and blood\n",
        "    game.set_render_messages(True)  # In-game messages\n",
        "    game.set_render_corpses(True)\n",
        "    game.set_render_screen_flashes(True)  # Effect upon taking damage or picking up items\n",
        "\n",
        "    # Adds buttons that will be allowed.\n",
        "    game.add_available_button(vzd.Button.MOVE_LEFT)\n",
        "    game.add_available_button(vzd.Button.MOVE_RIGHT)\n",
        "    game.add_available_button(vzd.Button.ATTACK)\n",
        "\n",
        "    # Adds game variables that will be included in state.\n",
        "    game.add_available_game_variable(vzd.GameVariable.AMMO2)\n",
        "\n",
        "    # Causes episodes to finish after 200 tics (actions)\n",
        "    game.set_episode_timeout(100)\n",
        "\n",
        "    # Makes episodes start after 10 tics (~after raising the weapon)\n",
        "    game.set_episode_start_time(20)\n",
        "\n",
        "    # Makes the window appear (turned on by default)\n",
        "    game.set_window_visible(False)\n",
        "\n",
        "    # Turns on the sound. (turned off by default)\n",
        "    game.set_sound_enabled(False)\n",
        "\n",
        "    # Sets the livin reward (for each move) to -1\n",
        "    game.set_living_reward(-1)\n",
        "\n",
        "    # Sets ViZDoom mode (PLAYER, ASYNC_PLAYER, SPECTATOR, ASYNC_SPECTATOR, PLAYER mode is default)\n",
        "    game.set_mode(vzd.Mode.PLAYER)\n",
        "\n",
        "    # Enables engine output to console.\n",
        "    #game.set_console_enabled(True)\n",
        "\n",
        "    # Initialize the game. Further configuration won't take any effect from now on.\n",
        "    game.init()\n",
        "    return game"
      ],
      "execution_count": 0,
      "outputs": []
    },
    {
      "cell_type": "code",
      "metadata": {
        "id": "rJm4ks7taMty",
        "colab_type": "code",
        "colab": {}
      },
      "source": [
        "def run_game_iteration(game,last_states,episode,observation_episodes,replay_memory,actions,shape,episodes,epsilon,policy_network):\n",
        "    s_0 = np.array(last_states)\n",
        "            \n",
        "    last_states.pop(0)\n",
        "            \n",
        "    action = choose_action(actions,epsilon,shape,policy_network,s_0,observation_episodes,episode)\n",
        "            \n",
        "    r = game.make_action(actions[action])\n",
        "\n",
        "    _,s = get_curr_state(game,shape)\n",
        "            \n",
        "    last_states.append(s)\n",
        "\n",
        "    s_1 = np.array(last_states)\n",
        "\n",
        "    terminal = game.is_episode_finished()\n",
        "\n",
        "    state = (s_0,action,r,s_1,terminal)\n",
        "            \n",
        "    replay_memory.append(state)"
      ],
      "execution_count": 0,
      "outputs": []
    },
    {
      "cell_type": "code",
      "metadata": {
        "id": "CthjhJmsaPW3",
        "colab_type": "code",
        "colab": {}
      },
      "source": [
        "def run_game_iterations(game,actions,epsilon,shape,episodes,policy_network):\n",
        "    \n",
        "    replay_memory = list()\n",
        "    rewards = list()\n",
        "    observation = 0\n",
        "    epsilon = 1\n",
        "\n",
        "    for episode in range(episodes):\n",
        "      \n",
        "      game.new_episode()\n",
        "\n",
        "      last_states = list()\n",
        "          \n",
        "      _,s = get_curr_state(game,shape)\n",
        "\n",
        "      for _ in range(shape[2]):\n",
        "          last_states.append(np.array(s))\n",
        "          \n",
        "      while not game.is_episode_finished():\n",
        "        run_game_iteration(game,last_states,episode,episodes,replay_memory,actions,shape,episodes,epsilon,policy_network)\n",
        "      \n",
        "      rewards.append(game.get_total_reward())\n",
        "\n",
        "    return (sum(rewards)/len(rewards),replay_memory)"
      ],
      "execution_count": 0,
      "outputs": []
    },
    {
      "cell_type": "code",
      "metadata": {
        "id": "cWccSyn6aSkp",
        "colab_type": "code",
        "colab": {}
      },
      "source": [
        "def get_sample_plays(game,actions,shape,episodes,policy=None):\n",
        "    _,samples = run_game_iterations(game,actions,0,shape,episodes,policy)\n",
        "    return samples\n",
        "\n",
        "def run_tests(game,actions,shape,episodes,policy):\n",
        "    statistics,_ = run_game_iterations(game,actions,1,shape,episodes,policy)\n",
        "    return statistics"
      ],
      "execution_count": 0,
      "outputs": []
    },
    {
      "cell_type": "code",
      "metadata": {
        "id": "HSG5Q_PHxQil",
        "colab_type": "code",
        "colab": {}
      },
      "source": [
        "def epsilon_greedy(epsilon,rewards):\n",
        "    r = uniform(0,1)\n",
        "      \n",
        "    if(epsilon <= r):\n",
        "      return randint(0,len(rewards) - 1)\n",
        "      \n",
        "    m = np.argmax(rewards)\n",
        "      \n",
        "    return m"
      ],
      "execution_count": 0,
      "outputs": []
    },
    {
      "cell_type": "code",
      "metadata": {
        "id": "GP6B84vWaZlx",
        "colab_type": "code",
        "colab": {}
      },
      "source": [
        "def choose_action(actions,epsilon,shape,policy,state,observation,episode):\n",
        "    if episode < observation:\n",
        "      return randint(0,len(actions) - 1)\n",
        "    else:\n",
        "      inputs = np.reshape(state,(-1,shape[0],shape[1],shape[2]))\n",
        "      rewards = policy.predict(inputs)      \n",
        "      return epsilon_greedy(epsilon,rewards)"
      ],
      "execution_count": 0,
      "outputs": []
    },
    {
      "cell_type": "code",
      "metadata": {
        "id": "fqwPnM0sabw7",
        "colab_type": "code",
        "colab": {}
      },
      "source": [
        "def get_curr_state(game,shape):\n",
        "    \n",
        "    if game.is_episode_finished():\n",
        "      return (None,None)\n",
        "\n",
        "    state = game.get_state()\n",
        "    n = state.number\n",
        "    screen_buf = state.screen_buffer\n",
        "    preprocessed_image = preprocess_image(screen_buf,shape)/255\n",
        "    \n",
        "    return (n,preprocessed_image)"
      ],
      "execution_count": 0,
      "outputs": []
    },
    {
      "cell_type": "code",
      "metadata": {
        "id": "__F2NsOladxs",
        "colab_type": "code",
        "colab": {}
      },
      "source": [
        "def get_minibatch(policy_network,target_network,replay_memory,batch,shape,actions,epsilon,gamma):\n",
        "    minibatch = sample(replay_memory,batch)\n",
        "\n",
        "    inputs = np.zeros((batch,shape[0],shape[1],shape[2]))\n",
        "    targets = np.zeros((batch,len(actions)))\n",
        "    \n",
        "    for i in range(batch):\n",
        "      state_t0 = minibatch[i][0]\n",
        "      action_t0 = minibatch[i][1]\n",
        "      reward_t0 = minibatch[i][2]\n",
        "      state_t1 = minibatch[i][3]\n",
        "      terminal = minibatch[i][4]\n",
        "\n",
        "      inputs[i:i+1] = np.reshape(state_t0,(-1,shape[0],shape[1],shape[2])) \n",
        "\n",
        "      state_t0_input = np.reshape(state_t0,(-1,shape[0],shape[1],shape[2])) \n",
        "      targets[i] = policy_network.predict(state_t0_input)\n",
        "      \n",
        "      if terminal:\n",
        "        targets[i,action_t0] = reward_t0        \n",
        "      else:\n",
        "        state_t1_input = np.reshape(state_t1,(-1,shape[0],shape[1],shape[2])) \n",
        "        Qsa = target_network.predict(state_t1_input)\n",
        "        targets[i,action_t0] = reward_t0 + gamma* np.max(Qsa)\n",
        "\n",
        "      return (inputs,targets)"
      ],
      "execution_count": 0,
      "outputs": []
    },
    {
      "cell_type": "code",
      "metadata": {
        "id": "Njjj84Q9aglF",
        "colab_type": "code",
        "colab": {}
      },
      "source": [
        "def train_model_minibatch(policy_network,target_network,replay_memory,val_memory,batch,\n",
        "                          shape,actions,epsilon,gamma,train_history,val_history,loss_history):\n",
        "    \n",
        "      train_inputs,train_targets = get_minibatch(policy_network,target_network,replay_memory,batch,shape,actions,epsilon,gamma)\n",
        "      val_inputs,val_targets =   get_minibatch(policy_network,target_network,val_memory,batch,shape,actions,epsilon,gamma)   \n",
        "    \n",
        "      loss = policy_network.train_on_batch(train_inputs,train_targets)\n",
        "      \n",
        "      train_predicts = policy_network.predict(train_inputs)\n",
        "      val_predicts =  policy_network.predict(val_inputs)\n",
        "      \n",
        "      train_mse = mse(train_targets,train_predicts)\n",
        "      val_mse = mse(val_targets,val_predicts)\n",
        "      \n",
        "      train_history.append(train_mse)\n",
        "      val_history.append(val_mse)\n",
        "      loss_history.append(loss)\n",
        "\n",
        "      ##print(f\"batch loss {loss}\")"
      ],
      "execution_count": 0,
      "outputs": []
    },
    {
      "cell_type": "code",
      "metadata": {
        "id": "DnTSVwHmaisF",
        "colab_type": "code",
        "colab": {}
      },
      "source": [
        "def deepQlearning(game,actions,shape,episodes,observation_episodes,update_target,target_update_frequency,epsilon,gamma,batch,buildmodel,model=None):\n",
        "    \n",
        "\n",
        "    if model != None:\n",
        "      policy_network = model\n",
        "      target_network = buildmodel(shape)\n",
        "      target_network.set_weights(target_network.get_weights())\n",
        "    \n",
        "    else:\n",
        "      policy_network = buildmodel(shape)\n",
        "      target_network = buildmodel(shape)\n",
        "\n",
        "    train_history = list()\n",
        "    val_history = list()\n",
        "    loss_history = list()\n",
        "\n",
        "    rewards = list()\n",
        "    \n",
        "    replay_memory = list()\n",
        "    val_memory = get_sample_plays(game,actions,shape,episodes)\n",
        "\n",
        "    for episode in range(episodes):\n",
        "        print(\"Episode #\" + str(episode + 1))\n",
        "\n",
        "\n",
        "        # Starts a new episode. It is not needed right after init() but it doesn't cost much. At least the loop is nicer.\n",
        "        game.new_episode()\n",
        "        \n",
        "        last_states = list()\n",
        "        \n",
        "        _,s = get_curr_state(game,shape)\n",
        "\n",
        "        for _ in range(shape[2]):\n",
        "            last_states.append(np.array(s))\n",
        "        \n",
        "        while not game.is_episode_finished():\n",
        "            run_game_iteration(game,last_states,episode,observation_episodes,replay_memory,actions,shape,episodes,epsilon,policy_network)\n",
        "\n",
        "            if episode >= observation_episodes:\n",
        "              train_model_minibatch(policy_network,target_network,replay_memory,val_memory,batch,\n",
        "                                    shape,actions,epsilon,gamma,train_history,val_history,loss_history)\n",
        "\n",
        "            # Prints state's game variables and reward.\n",
        "            # print(\"State #\" + str(n))\n",
        "            # print(\"Game variables:\", vars)\n",
        "            # print(\"Reward:\", r)\n",
        "            # print(\"=====================\")\n",
        "            print(\"-\",end=\"\")\n",
        "        \n",
        "        if episode >= update_target and ((episode - update_target) % target_update_frequency) == 0:\n",
        "          target_network.set_weights(policy_network.get_weights())\n",
        "\n",
        "        # Check how the episode went.\n",
        "        print(\"Episode finished.\")\n",
        "        print(\"Total reward:\", game.get_total_reward())\n",
        "        print(\"************************\")\n",
        "        \n",
        "        rewards.append(game.get_total_reward())\n",
        "      \n",
        "\n",
        "    return (policy_network,rewards,train_history,val_history,loss_history)\n"
      ],
      "execution_count": 0,
      "outputs": []
    },
    {
      "cell_type": "code",
      "metadata": {
        "id": "5BQ5hvGzP6OM",
        "colab_type": "code",
        "outputId": "8160055f-f6e6-425c-d4dd-6aa8c2857b4d",
        "colab": {
          "base_uri": "https://localhost:8080/",
          "height": 1000
        }
      },
      "source": [
        "def main():\n",
        "    # Create DoomGame instance. It will run the game and communicate with you.\n",
        "    game = create_doom_instance()\n",
        "\n",
        "    # Define some actions. Each list entry corresponds to declared buttons:\n",
        "    # MOVE_LEFT, MOVE_RIGHT, ATTACK\n",
        "    # game.get_available_buttons_size() can be used to check the number of available buttons.\n",
        "    # 5 more combinations are naturally possible but only 3 are included for transparency when watching.\n",
        "    actions = [[True, False, False], [False, True, False], [False, False, True]]\n",
        "\n",
        "    # Run this many episodes\n",
        "    episodes = 40\n",
        "    epsilon = 1\n",
        "    gamma = 0.5\n",
        "    batch = 16\n",
        "    target_update_frequency = 1\n",
        "    observation_episodes = 10\n",
        "    shape = (64,64,4)\n",
        "    update_target = observation_episodes + 1\n",
        "    model_loc = \"policy_network.h5\"\n",
        "\n",
        "    ##model = load_model(model_loc)\n",
        "    model,rewards,train_history,val_history,loss_history = deepQlearning(game,actions,shape,episodes,observation_episodes,\n",
        "                                  update_target,target_update_frequency,epsilon,gamma,batch,buildmodel_initial)  \n",
        "    \n",
        "    print(rewards)\n",
        "    plot_rewards(rewards)\n",
        "    plot_accuracy(train_history,val_history)\n",
        "    plot_loss(loss_history)\n",
        "    \n",
        "    \n",
        "\n",
        "    model.save(model_loc)\n",
        "    # It will be done automatically anyway but sometimes you need to do it in the middle of the program...\n",
        "    game.close()\n",
        "\n",
        "if __name__ == \"__main__\":\n",
        "    main()"
      ],
      "execution_count": 0,
      "outputs": [
        {
          "output_type": "stream",
          "text": [
            "Now we build the model\n",
            "We finish building the model\n",
            "Now we build the model\n",
            "We finish building the model\n",
            "Episode #1\n",
            "----------------------------------------------------------------------------------------------------Episode finished.\n",
            "Total reward: -125.0\n",
            "************************\n",
            "Episode #2\n",
            "------------------------------------------------Episode finished.\n",
            "Total reward: 43.0\n",
            "************************\n",
            "Episode #3\n",
            "----------------------------------------------------------------------------------------------------Episode finished.\n",
            "Total reward: -130.0\n",
            "************************\n",
            "Episode #4\n",
            "----------------------------------------------------------------------------------------------------Episode finished.\n",
            "Total reward: -125.0\n",
            "************************\n",
            "Episode #5\n",
            "--------------------------Episode finished.\n",
            "Total reward: 70.0\n",
            "************************\n",
            "Episode #6\n",
            "----------------------------------------------------------------------------------------------------Episode finished.\n",
            "Total reward: -125.0\n",
            "************************\n",
            "Episode #7\n",
            "----------------------------------------------------------------------------------------------------Episode finished.\n",
            "Total reward: -125.0\n",
            "************************\n",
            "Episode #8\n",
            "-------------------------------------------------------------Episode finished.\n",
            "Total reward: 25.0\n",
            "************************\n",
            "Episode #9\n",
            "----------------------------------------------------------------------------------------------------Episode finished.\n",
            "Total reward: -125.0\n",
            "************************\n",
            "Episode #10\n",
            "----------------------------------------------------------------------------------------------------Episode finished.\n",
            "Total reward: -125.0\n",
            "************************\n",
            "Episode #11\n",
            "----------------------------------------------------------------------------------------------------Episode finished.\n",
            "Total reward: -110.0\n",
            "************************\n",
            "Episode #12\n",
            "----------------------------------------------------------------------------------------------------Episode finished.\n",
            "Total reward: -100.0\n",
            "************************\n",
            "Episode #13\n",
            "----------------------------------------------------------------------------------------------------Episode finished.\n",
            "Total reward: -100.0\n",
            "************************\n",
            "Episode #14\n",
            "----------------------------------------------------------------------------------------------------Episode finished.\n",
            "Total reward: -100.0\n",
            "************************\n",
            "Episode #15\n",
            "----------------------------------------------------------------------------------------------------Episode finished.\n",
            "Total reward: -100.0\n",
            "************************\n",
            "Episode #16\n",
            "----------------------------------------------------------------------------------------------------Episode finished.\n",
            "Total reward: -100.0\n",
            "************************\n",
            "Episode #17\n",
            "----------------------------------------------------------------------------------------------------Episode finished.\n",
            "Total reward: -105.0\n",
            "************************\n",
            "Episode #18\n",
            "----------------------------------------------------------------------------------------------------Episode finished.\n",
            "Total reward: -120.0\n",
            "************************\n",
            "Episode #19\n",
            "----------------------------------------------------------------------------------------------------Episode finished.\n",
            "Total reward: -125.0\n",
            "************************\n",
            "Episode #20\n",
            "----------------------------------------------------------------------------------------------------Episode finished.\n",
            "Total reward: -130.0\n",
            "************************\n",
            "Episode #21\n",
            "----------------------------------------------------------------------------------------------------Episode finished.\n",
            "Total reward: -110.0\n",
            "************************\n",
            "Episode #22\n",
            "----------------------------------------------------------------------------------------------------Episode finished.\n",
            "Total reward: -130.0\n",
            "************************\n",
            "Episode #23\n",
            "----------------------------------------------------------------------------------------------------Episode finished.\n",
            "Total reward: -135.0\n",
            "************************\n",
            "Episode #24\n",
            "----------------------------------------------------------------------------------------------------Episode finished.\n",
            "Total reward: -130.0\n",
            "************************\n",
            "Episode #25\n",
            "----------------------------------------------------------------------------------------------------Episode finished.\n",
            "Total reward: -100.0\n",
            "************************\n",
            "Episode #26\n",
            "----------------------------------------------------------------------------------------------------Episode finished.\n",
            "Total reward: -100.0\n",
            "************************\n",
            "Episode #27\n",
            "----------------------------------------------------------------------------------------------------Episode finished.\n",
            "Total reward: -100.0\n",
            "************************\n",
            "Episode #28\n",
            "----------------------------------------------------------------------------------------------------Episode finished.\n",
            "Total reward: -100.0\n",
            "************************\n",
            "Episode #29\n",
            "----------------------------------------------------------------------------------------------------Episode finished.\n",
            "Total reward: -100.0\n",
            "************************\n",
            "Episode #30\n",
            "----------------------------------------------------------------------------------------------------Episode finished.\n",
            "Total reward: -100.0\n",
            "************************\n",
            "Episode #31\n",
            "----------------------------------------------------------------------------------------------------Episode finished.\n",
            "Total reward: -100.0\n",
            "************************\n",
            "Episode #32\n",
            "----------------------------------------------------------------------------------------------------Episode finished.\n",
            "Total reward: -110.0\n",
            "************************\n",
            "Episode #33\n",
            "----------------------------------------------------------------------------------------------------Episode finished.\n",
            "Total reward: -100.0\n",
            "************************\n",
            "Episode #34\n",
            "----------------------------------------------------------------------------------------------------Episode finished.\n",
            "Total reward: -100.0\n",
            "************************\n",
            "Episode #35\n",
            "----------------------------------------------------------------------------------------------------Episode finished.\n",
            "Total reward: -120.0\n",
            "************************\n",
            "Episode #36\n",
            "----------------------------------------------------------------------------------------------------Episode finished.\n",
            "Total reward: -125.0\n",
            "************************\n",
            "Episode #37\n",
            "-------------------Episode finished.\n",
            "Total reward: 82.0\n",
            "************************\n",
            "Episode #38\n",
            "----------------------------------------------------------------------------------------------------Episode finished.\n",
            "Total reward: -125.0\n",
            "************************\n",
            "Episode #39\n",
            "----------------------------------------Episode finished.\n",
            "Total reward: 56.0\n",
            "************************\n",
            "Episode #40\n",
            "----------------------------------------------------------------------------------------------------Episode finished.\n",
            "Total reward: -115.0\n",
            "************************\n",
            "[-125.0, 43.0, -130.0, -125.0, 70.0, -125.0, -125.0, 25.0, -125.0, -125.0, -110.0, -100.0, -100.0, -100.0, -100.0, -100.0, -105.0, -120.0, -125.0, -130.0, -110.0, -130.0, -135.0, -130.0, -100.0, -100.0, -100.0, -100.0, -100.0, -100.0, -100.0, -110.0, -100.0, -100.0, -120.0, -125.0, 82.0, -125.0, 56.0, -115.0]\n"
          ],
          "name": "stdout"
        },
        {
          "output_type": "display_data",
          "data": {
            "image/png": "[encoded data removed]",
            "text/plain": [
              "<Figure size 432x288 with 1 Axes>"
            ]
          },
          "metadata": {
            "tags": [],
            "needs_background": "light"
          }
        },
        {
          "output_type": "display_data",
          "data": {
            "image/png": "[encoded data removed]",
            "text/plain": [
              "<Figure size 432x288 with 1 Axes>"
            ]
          },
          "metadata": {
            "tags": [],
            "needs_background": "light"
          }
        },
        {
          "output_type": "display_data",
          "data": {
            "image/png": "[encoded data removed]",
            "text/plain": [
              "<Figure size 432x288 with 1 Axes>"
            ]
          },
          "metadata": {
            "tags": [],
            "needs_background": "light"
          }
        }
      ]
    },
    {
      "cell_type": "code",
      "metadata": {
        "id": "12nCVgETR0AJ",
        "colab_type": "code",
        "colab": {}
      },
      "source": [
        "\n",
        "vizdoom.__version__"
      ],
      "execution_count": 0,
      "outputs": []
    },
    {
      "cell_type": "code",
      "metadata": {
        "id": "j2AlvmP1ZfBc",
        "colab_type": "code",
        "outputId": "910e3631-9c05-4a1a-e601-a61354b6b595",
        "colab": {
          "base_uri": "https://localhost:8080/",
          "height": 204
        }
      },
      "source": [
        "!ls \"/usr/local/lib/python3.6/dist-packages/vizdoom/scenarios/basic.wad\""
      ],
      "execution_count": 0,
      "outputs": [
        {
          "output_type": "stream",
          "text": [
            "basic.cfg\t       defend_the_line.cfg\t     my_way_home.cfg\n",
            "basic.wad\t       defend_the_line.wad\t     my_way_home.wad\n",
            "cig.cfg\t\t       health_gathering.cfg\t     oblige.cfg\n",
            "cig.wad\t\t       health_gathering_supreme.cfg  predict_position.cfg\n",
            "cig_with_unknown.wad   health_gathering_supreme.wad  predict_position.wad\n",
            "deadly_corridor.cfg    health_gathering.wad\t     rocket_basic.cfg\n",
            "deadly_corridor.wad    learning.cfg\t\t     rocket_basic.wad\n",
            "deathmatch.cfg\t       multi.cfg\t\t     simpler_basic.cfg\n",
            "deathmatch.wad\t       multi_deathmatch.wad\t     simpler_basic.wad\n",
            "defend_the_center.cfg  multi_duel.cfg\t\t     take_cover.cfg\n",
            "defend_the_center.wad  multi_duel.wad\t\t     take_cover.wad\n"
          ],
          "name": "stdout"
        }
      ]
    },
    {
      "cell_type": "code",
      "metadata": {
        "id": "85TDgZgMUpl8",
        "colab_type": "code",
        "outputId": "06644d88-bb76-4022-e5df-6e7403579ba5",
        "colab": {
          "base_uri": "https://localhost:8080/",
          "height": 34
        }
      },
      "source": [
        "!ls"
      ],
      "execution_count": 0,
      "outputs": [
        {
          "output_type": "stream",
          "text": [
            "policy_network.h5  sample_data\t_vizdoom\n"
          ],
          "name": "stdout"
        }
      ]
    },
    {
      "cell_type": "code",
      "metadata": {
        "id": "kZ-7hL9Lag-s",
        "colab_type": "code",
        "outputId": "2fac30c5-82f5-4a57-e6c6-808d6d4cc758",
        "colab": {
          "base_uri": "https://localhost:8080/",
          "height": 122
        }
      },
      "source": [
        "from google.colab import drive\n",
        "drive.mount('/content/drive')"
      ],
      "execution_count": 0,
      "outputs": [
        {
          "output_type": "stream",
          "text": [
            "Go to this URL in a browser: https://accounts.google.com/o/oauth2/auth?client_id=947318989803-6bn6qk8qdgf4n4g3pfee6491hc0brc4i.apps.googleusercontent.com&redirect_uri=urn%3aietf%3awg%3aoauth%3a2.0%3aoob&response_type=code&scope=email%20https%3a%2f%2fwww.googleapis.com%2fauth%2fdocs.test%20https%3a%2f%2fwww.googleapis.com%2fauth%2fdrive%20https%3a%2f%2fwww.googleapis.com%2fauth%2fdrive.photos.readonly%20https%3a%2f%2fwww.googleapis.com%2fauth%2fpeopleapi.readonly\n",
            "\n",
            "Enter your authorization code:\n",
            "··········\n",
            "Mounted at /content/drive\n"
          ],
          "name": "stdout"
        }
      ]
    },
    {
      "cell_type": "code",
      "metadata": {
        "id": "pAHouAgjrCrW",
        "colab_type": "code",
        "colab": {}
      },
      "source": [
        "!cp \"policy_network.h5\" 'drive/My Drive/'"
      ],
      "execution_count": 0,
      "outputs": []
    },
    {
      "cell_type": "code",
      "metadata": {
        "id": "mj-bVqR5Nun_",
        "colab_type": "code",
        "colab": {}
      },
      "source": [
        ""
      ],
      "execution_count": 0,
      "outputs": []
    }
  ]
}